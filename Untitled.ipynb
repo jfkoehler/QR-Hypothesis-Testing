{
 "cells": [
  {
   "cell_type": "code",
   "execution_count": 1,
   "id": "ce8ffa03",
   "metadata": {},
   "outputs": [],
   "source": [
    "import pandas as pd"
   ]
  },
  {
   "cell_type": "code",
   "execution_count": 2,
   "id": "1f24abfc",
   "metadata": {},
   "outputs": [
    {
     "name": "stdout",
     "output_type": "stream",
     "text": [
      "<class 'pandas.core.frame.DataFrame'>\n",
      "RangeIndex: 123988 entries, 0 to 123987\n",
      "Data columns (total 14 columns):\n",
      " #   Column      Non-Null Count   Dtype  \n",
      "---  ------      --------------   -----  \n",
      " 0   user_id     123988 non-null  int64  \n",
      " 1   cpgn_id     123988 non-null  object \n",
      " 2   group       123988 non-null  object \n",
      " 3   email       123988 non-null  bool   \n",
      " 4   open        123988 non-null  int64  \n",
      " 5   click       123988 non-null  int64  \n",
      " 6   purch       123988 non-null  float64\n",
      " 7   chard       123988 non-null  float64\n",
      " 8   sav_blanc   123988 non-null  float64\n",
      " 9   syrah       123988 non-null  float64\n",
      " 10  cab         123988 non-null  float64\n",
      " 11  past_purch  123988 non-null  float64\n",
      " 12  days_since  123988 non-null  int64  \n",
      " 13  visits      123988 non-null  int64  \n",
      "dtypes: bool(1), float64(6), int64(5), object(2)\n",
      "memory usage: 12.4+ MB\n"
     ]
    }
   ],
   "source": [
    "df = pd.read_csv('data/email_data.csv')\n",
    "df.info()"
   ]
  },
  {
   "cell_type": "code",
   "execution_count": 4,
   "id": "3e6605d0",
   "metadata": {},
   "outputs": [],
   "source": [
    "df2 = df.sample(frac = .3)"
   ]
  },
  {
   "cell_type": "code",
   "execution_count": 5,
   "id": "2498708c",
   "metadata": {},
   "outputs": [
    {
     "data": {
      "text/plain": [
       "(37196, 14)"
      ]
     },
     "execution_count": 5,
     "metadata": {},
     "output_type": "execute_result"
    }
   ],
   "source": [
    "df2.shape"
   ]
  },
  {
   "cell_type": "code",
   "execution_count": 6,
   "id": "5fabbca4",
   "metadata": {},
   "outputs": [],
   "source": [
    "df2.to_csv('data/email_small.csv', index = False)"
   ]
  },
  {
   "cell_type": "code",
   "execution_count": null,
   "id": "4438d837",
   "metadata": {},
   "outputs": [],
   "source": []
  }
 ],
 "metadata": {
  "kernelspec": {
   "display_name": "Python 3",
   "language": "python",
   "name": "python3"
  },
  "language_info": {
   "codemirror_mode": {
    "name": "ipython",
    "version": 3
   },
   "file_extension": ".py",
   "mimetype": "text/x-python",
   "name": "python",
   "nbconvert_exporter": "python",
   "pygments_lexer": "ipython3",
   "version": "3.8.3"
  }
 },
 "nbformat": 4,
 "nbformat_minor": 5
}
