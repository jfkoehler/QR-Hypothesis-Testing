{
 "cells": [
  {
   "cell_type": "markdown",
   "id": "b752237c",
   "metadata": {},
   "source": [
    "#### Job Talk: The New School\n",
    "\n"
   ]
  },
  {
   "cell_type": "markdown",
   "id": "2d0c8f07",
   "metadata": {},
   "source": [
    "#### Background\n",
    "\n",
    "- Scotia, New York"
   ]
  },
  {
   "cell_type": "markdown",
   "id": "2900fa80",
   "metadata": {},
   "source": [
    "#### Education \n",
    "\n",
    "- Scotia-Glenville High School 1998\n",
    "- SUNY Oneonta 2002\n",
    "- UNCC Charlotte 2008\n",
    "- Columbia University 2018"
   ]
  },
  {
   "cell_type": "markdown",
   "id": "20804f34",
   "metadata": {},
   "source": [
    "#### High School Teaching\n",
    "\n",
    "- Cohoes High School\n",
    "- ZB Vance High School\n",
    "\n",
    "\n",
    "\n",
    "\n"
   ]
  },
  {
   "cell_type": "markdown",
   "id": "4dc21ca1",
   "metadata": {},
   "source": [
    "#### Professional Development and Curriculum Develoment\n",
    "\n",
    "- Paramus Technical Schools\n",
    "- CUNY Research Foundation\n",
    "- KAUST SRSI\n",
    "\n"
   ]
  },
  {
   "cell_type": "markdown",
   "id": "039fddb9",
   "metadata": {},
   "source": [
    "#### University Teaching Experience\n",
    "\n",
    "- UNC Charlotte\n",
    "- The New School\n",
    "- CUNY BMCC\n",
    "- New York University"
   ]
  },
  {
   "cell_type": "markdown",
   "id": "5a3bdd1d",
   "metadata": {},
   "source": [
    "#### Motivations\n",
    "\n",
    "- High School\n",
    "- University"
   ]
  },
  {
   "cell_type": "markdown",
   "id": "38ae1741",
   "metadata": {},
   "source": [
    "#### Philosophy\n",
    "\n",
    "- Expand what counts as mathematics\n",
    "- Be concrete\n"
   ]
  },
  {
   "cell_type": "markdown",
   "id": "e8bf2437",
   "metadata": {},
   "source": [
    "#### Pedagogy\n",
    "\n",
    "- Problem Based\n",
    "- Discussion\n",
    "- Assessment\n",
    "- Technology"
   ]
  },
  {
   "cell_type": "markdown",
   "id": "2ccb9d23",
   "metadata": {},
   "source": [
    "#### Assignment\n",
    "\n",
    "- Number and Arithmetic: Retail Shop (QR I)\n",
    "- Data: Visualizations and Interpretation in 1D (QR I)\n",
    "- Data and Distribution of Resources: Gini (QR II)\n",
    "- Data and Forecasting: Regression (QR II)\n",
    "\n"
   ]
  },
  {
   "cell_type": "markdown",
   "id": "43de9ee7",
   "metadata": {},
   "source": [
    "#### Research\n",
    "\n",
    "- Practitioners\n",
    "- Curriculum and Professional Development\n",
    "- History and Technology"
   ]
  },
  {
   "cell_type": "code",
   "execution_count": null,
   "id": "086f2e62",
   "metadata": {},
   "outputs": [],
   "source": []
  }
 ],
 "metadata": {
  "kernelspec": {
   "display_name": "Python 3",
   "language": "python",
   "name": "python3"
  },
  "language_info": {
   "codemirror_mode": {
    "name": "ipython",
    "version": 3
   },
   "file_extension": ".py",
   "mimetype": "text/x-python",
   "name": "python",
   "nbconvert_exporter": "python",
   "pygments_lexer": "ipython3",
   "version": "3.8.3"
  }
 },
 "nbformat": 4,
 "nbformat_minor": 5
}
